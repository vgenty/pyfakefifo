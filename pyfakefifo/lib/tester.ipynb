{
 "cells": [
  {
   "cell_type": "code",
   "execution_count": null,
   "metadata": {
    "collapsed": false
   },
   "outputs": [],
   "source": [
    "%gui qt\n",
    "import pyqtgraph as pg\n",
    "\n",
    "import sys\n",
    "sys.path.insert(0, '/Users/vgenty/git/pyfakefifo/')\n",
    "\n",
    "import pyfakefifo"
   ]
  },
  {
   "cell_type": "code",
   "execution_count": null,
   "metadata": {
    "collapsed": false
   },
   "outputs": [],
   "source": [
    "pff = pyfakefifo.PyFakeFifo()"
   ]
  },
  {
   "cell_type": "code",
   "execution_count": null,
   "metadata": {
    "collapsed": false
   },
   "outputs": [],
   "source": [
    "tfifo1 = pff[('trig','test123_pt_trig.root')]\n",
    "sfifo1 = pff[('sn','test123_pt_snova.root')]\n",
    "\n",
    "print tfifo1\n",
    "print sfifo1"
   ]
  },
  {
   "cell_type": "code",
   "execution_count": null,
   "metadata": {
    "collapsed": false
   },
   "outputs": [],
   "source": [
    "frame_125_sn   = sfifo1.get_event(126)\n",
    "frame_125_trig = tfifo1.get_event(1)"
   ]
  },
  {
   "cell_type": "code",
   "execution_count": null,
   "metadata": {
    "collapsed": false
   },
   "outputs": [],
   "source": [
    "pW = pg.plot(title=\"Two plot curves\")\n",
    "\n",
    "pW.plot(frame_125_sn[\"ch10\"][:,0],\n",
    "        frame_125_sn[\"ch10\"][:,1],symbol='o',pen=(0,2))\n",
    "pW.plot(frame_125_trig[\"ch10\"][:,0],\n",
    "        frame_125_trig[\"ch10\"][:,1],symbol='o',pen=(1,2))"
   ]
  }
 ],
 "metadata": {
  "kernelspec": {
   "display_name": "Python 2",
   "language": "python",
   "name": "python2"
  },
  "language_info": {
   "codemirror_mode": {
    "name": "ipython",
    "version": 2
   },
   "file_extension": ".py",
   "mimetype": "text/x-python",
   "name": "python",
   "nbconvert_exporter": "python",
   "pygments_lexer": "ipython2",
   "version": "2.7.10"
  }
 },
 "nbformat": 4,
 "nbformat_minor": 0
}
